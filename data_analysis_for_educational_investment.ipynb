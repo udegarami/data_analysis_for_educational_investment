{
 "cells": [
  {
   "cell_type": "markdown",
   "id": "4d05a164",
   "metadata": {},
   "source": [
    "# Data Analysis for Educational Investment\n",
    "## Introduction\n",
    "This Jupyter Notebook presents a comprehensive data analysis for educational investment across various countries and sub-regions. The dataset used for this analysis includes indicators related to internet usage, government expenditure on education, GDP per capita, population demographics, and more. The primary goal is to identify countries and sub-regions that exhibit promising potential for educational investment."
   ]
  },
  {
   "cell_type": "code",
   "execution_count": 1,
   "id": "9af2d63b",
   "metadata": {},
   "outputs": [],
   "source": [
    "# Importing necessary libraries\n",
    "import pandas as pd\n",
    "import matplotlib.pyplot as plt\n",
    "import seaborn as sns\n",
    "import plotly.express as px\n",
    "from sklearn import preprocessing as pp"
   ]
  },
  {
   "cell_type": "markdown",
   "id": "ec855cfb",
   "metadata": {},
   "source": [
    "## Data Source\n",
    "The analysis is based on two datasets:\n",
    "\n",
    "**EdStatsData.csv**: This dataset contains educational statistics from various countries, including indicators related to primary, secondary, and tertiary education, internet usage, GDP per capita, and demographic information.\n",
    "\n",
    "**unstatscountries.csv**: This dataset provides information about countries, including their ISO-alpha3 codes and sub-regions."
   ]
  },
  {
   "cell_type": "code",
   "execution_count": 2,
   "id": "0ac77c54",
   "metadata": {},
   "outputs": [],
   "source": [
    "# Loading the data\n",
    "uncountries = pd.read_csv('unstatscountries.csv', delimiter=\";\")\n",
    "df = pd.read_csv('EdStatsData.csv')"
   ]
  },
  {
   "cell_type": "markdown",
   "id": "c544f39a",
   "metadata": {},
   "source": [
    "## Data Cleaning and Preprocessing\n",
    "The initial phase of the analysis involves data cleaning and preprocessing to ensure the datasets are ready for exploration. Missing values are handled appropriately, and the data is filtered to include only relevant indicators and valid country codes."
   ]
  },
  {
   "cell_type": "code",
   "execution_count": 4,
   "id": "080ed025",
   "metadata": {},
   "outputs": [
    {
     "name": "stdout",
     "output_type": "stream",
     "text": [
      "Proportion of missing values in the entire dataframe: 0.8609985165522804\n"
     ]
    }
   ],
   "source": [
    "# Calculating the proportion of missing values in the entire dataframe\n",
    "dfmissingvalues = df.isnull().mean().mean()\n",
    "print(\"Proportion of missing values in the entire dataframe:\", dfmissingvalues)"
   ]
  },
  {
   "cell_type": "code",
   "execution_count": 5,
   "id": "b5fb5b5c",
   "metadata": {},
   "outputs": [],
   "source": [
    "# Filtering the dataframe to include only specific indicators\n",
    "selected_indicators = [\n",
    "    'IT.NET.USER.P2', 'SE.XPD.PRIM.PC.ZS', 'SE.XPD.PRIM.ZS', 'SE.XPD.SECO.PC.ZS',\n",
    "    'SE.XPD.SECO.ZS', 'SE.XPD.TERT.PC.ZS', 'SE.XPD.TERT.ZS', 'SE.XPD.TOTL.GB.ZS',\n",
    "    'SE.XPD.TOTL.GD.ZS', 'XGDP.23.FSGOV.FDINSTADM.FFD', 'XGDP.56.FSGOV.FDINSTADM.FFD',\n",
    "    'NY.GDP.PCAP.CD', 'HH.MICS.YRS.15UP.GIN', 'BAR.POP.1519', 'BAR.POP.2024',\n",
    "    'BAR.POP.2529', 'BAR.POP.3034', 'BAR.POP.3539', 'SP.POP.AG10.TO.UN',\n",
    "    'SP.POP.AG11.TO.UN', 'SP.POP.AG12.TO.UN', 'SP.POP.AG13.TO.UN', 'SP.POP.AG14.TO.UN',\n",
    "    'SP.POP.AG15.TO.UN', 'SP.POP.AG16.TO.UN', 'SP.POP.AG17.TO.UN', 'SP.POP.AG18.TO.UN',\n",
    "]"
   ]
  },
  {
   "cell_type": "code",
   "execution_count": 6,
   "id": "18111298",
   "metadata": {},
   "outputs": [],
   "source": [
    "dfed = df[df['Indicator Code'].isin(selected_indicators)]"
   ]
  },
  {
   "cell_type": "code",
   "execution_count": 7,
   "id": "9b933ec7",
   "metadata": {},
   "outputs": [],
   "source": [
    "# Filtering the dataframe to include only countries with valid codes\n",
    "dfed = dfed[dfed['Country Code'].isin(uncountries['ISO-alpha3 Code'])]"
   ]
  },
  {
   "cell_type": "code",
   "execution_count": 8,
   "id": "65faf95c",
   "metadata": {},
   "outputs": [],
   "source": [
    "# Merging with the 'uncountries' dataframe to add 'Sub-region Name'\n",
    "uncountriessr = uncountries.loc[:, ['ISO-alpha3 Code', 'Sub-region Name']]\n",
    "dfed['Sub-region Name'] = dfed['Country Code'].map(uncountries.set_index('ISO-alpha3 Code')['Sub-region Name'])"
   ]
  },
  {
   "cell_type": "code",
   "execution_count": 9,
   "id": "77ef8790",
   "metadata": {},
   "outputs": [],
   "source": [
    "# Calculating the average score for each country based on the selected indicators\n",
    "dfed['Average'] = dfed.mean(numeric_only=True, axis=1)"
   ]
  },
  {
   "cell_type": "markdown",
   "id": "ddb50ffe",
   "metadata": {},
   "source": [
    "## Data Exploration and Visualization\n",
    "The data exploration process includes visualizing the proportion of missing values, understanding the distribution of the selected indicators, and calculating average scores for countries based on these indicators. Additionally, the top 15 countries with the highest investment scores are identified and visualized through bar charts.\n",
    "\n",
    "Furthermore, a choropleth map is created to showcase investment scores across all countries, providing a global perspective on educational investment potential."
   ]
  },
  {
   "cell_type": "code",
   "execution_count": 11,
   "id": "787bcfa2",
   "metadata": {},
   "outputs": [
    {
     "name": "stdout",
     "output_type": "stream",
     "text": [
      "Proportion of missing values in the filtered dataframe:\n",
      "92107     0.791667\n",
      "92109     0.791667\n",
      "92113     0.791667\n",
      "92115     0.791667\n",
      "92117     0.791667\n",
      "            ...   \n",
      "885626    0.569444\n",
      "885629    0.569444\n",
      "885632    0.569444\n",
      "885635    0.569444\n",
      "885638    0.569444\n",
      "Length: 5805, dtype: float64\n",
      "Proportion of missing values in the pivot table:\n",
      "Indicator Code\n",
      "Country Name                   0.000000\n",
      "Country Code                   0.000000\n",
      "BAR.POP.1519                   0.323944\n",
      "BAR.POP.2024                   0.323944\n",
      "BAR.POP.2529                   0.323944\n",
      "BAR.POP.3034                   0.323944\n",
      "BAR.POP.3539                   0.323944\n",
      "HH.MICS.YRS.15UP.GIN           0.816901\n",
      "IT.NET.USER.P2                 0.023474\n",
      "NY.GDP.PCAP.CD                 0.028169\n",
      "SE.XPD.PRIM.PC.ZS              0.230047\n",
      "SE.XPD.PRIM.ZS                 0.136150\n",
      "SE.XPD.SECO.PC.ZS              0.244131\n",
      "SE.XPD.SECO.ZS                 0.136150\n",
      "SE.XPD.TERT.PC.ZS              0.197183\n",
      "SE.XPD.TERT.ZS                 0.098592\n",
      "SE.XPD.TOTL.GB.ZS              0.150235\n",
      "SE.XPD.TOTL.GD.ZS              0.079812\n",
      "SP.POP.AG10.TO.UN              0.098592\n",
      "SP.POP.AG11.TO.UN              0.098592\n",
      "SP.POP.AG12.TO.UN              0.098592\n",
      "SP.POP.AG13.TO.UN              0.098592\n",
      "SP.POP.AG14.TO.UN              0.098592\n",
      "SP.POP.AG15.TO.UN              0.098592\n",
      "SP.POP.AG16.TO.UN              0.098592\n",
      "SP.POP.AG17.TO.UN              0.098592\n",
      "SP.POP.AG18.TO.UN              0.098592\n",
      "XGDP.23.FSGOV.FDINSTADM.FFD    0.220657\n",
      "XGDP.56.FSGOV.FDINSTADM.FFD    0.230047\n",
      "dtype: float64\n"
     ]
    },
    {
     "data": {
      "image/png": "[encoded data removed]",
      "text/plain": [
       "<Figure size 1200x800 with 1 Axes>"
      ]
     },
     "metadata": {},
     "output_type": "display_data"
    }
   ],
   "source": [
    "# Data Exploration\n",
    "\n",
    "# Checking the proportion of missing values in the filtered dataframe\n",
    "print(\"Proportion of missing values in the filtered dataframe:\")\n",
    "print(dfed.isnull().mean(axis=1))\n",
    "\n",
    "# Pivot table to reshape the data for better visualization\n",
    "dfedcp = pd.pivot_table(dfed, index=['Country Name', 'Country Code'], columns='Indicator Code', values='Average')\n",
    "dfedcp = dfedcp.reset_index()\n",
    "\n",
    "# Checking the proportion of missing values in the pivot table\n",
    "print(\"Proportion of missing values in the pivot table:\")\n",
    "print(dfedcp.isnull().mean(axis=0))\n",
    "\n",
    "# Plotting the proportion of missing values for each indicator\n",
    "dfedcp.isnull().mean(axis=0).plot.barh(figsize=(12, 8))\n",
    "\n",
    "# Selecting and dropping columns with more than 15% missing values\n",
    "droplist = dfedcp.columns[dfedcp.isnull().mean() >= 0.15].tolist()\n",
    "dfedcp = dfedcp.drop(columns=droplist)"
   ]
  },
  {
   "cell_type": "code",
   "execution_count": 12,
   "id": "c80608c4",
   "metadata": {},
   "outputs": [],
   "source": [
    "# Data Normalization\n",
    "# Fill NaN values with zeros\n",
    "dfedcp.fillna(0, inplace=True)\n",
    "\n",
    "# Removing the last weight element to match the number of columns in the DataFrame\n",
    "weights = [10, 7, 1, 3, 5, 1, 1, 1, 1, 1, 1, 1, 1, 1]\n",
    "\n",
    "# Calculating a weighted score based on specific indicators\n",
    "dfedcp['Score'] = dfedcp.iloc[:, 3:17].dot(weights) / sum(weights)\n",
    "\n",
    "# Normalizing the numeric columns in the dataframe\n",
    "dfedcp.iloc[:, 3:20] = pp.normalize(dfedcp.iloc[:, 3:20])\n",
    "\n",
    "# Calculating a weighted score based on specific indicators\n",
    "weights = [10, 7, 1, 3, 5, 1, 1, 1, 1, 1, 1, 1, 1, 1, 1]\n",
    "dfedcp['Score'] = dfedcp.iloc[:, 3:20].dot(weights) / sum(weights)# Data Normalization"
   ]
  },
  {
   "cell_type": "markdown",
   "id": "b70c0f73",
   "metadata": {},
   "source": [
    "## Sub-Region Analysis\n",
    "In addition to country-level analysis, the notebook also examines investment potential at the sub-regional level. The top five sub-regions with the highest average scores are identified and presented through bar charts."
   ]
  },
  {
   "cell_type": "code",
   "execution_count": null,
   "id": "5ad21910",
   "metadata": {},
   "outputs": [
    {
     "name": "stderr",
     "output_type": "stream",
     "text": [
      "/tmp/ipykernel_17134/3538237180.py:3: SettingWithCopyWarning: \n",
      "A value is trying to be set on a copy of a slice from a DataFrame\n",
      "\n",
      "See the caveats in the documentation: https://pandas.pydata.org/pandas-docs/stable/user_guide/indexing.html#returning-a-view-versus-a-copy\n",
      "  dfedc.sort_values(by=['Score'], inplace=True, ascending=False)\n"
     ]
    },
    {
     "data": {
      "image/png": "[encoded data removed]",
      "text/plain": [
       "<Figure size 1200x800 with 1 Axes>"
      ]
     },
     "metadata": {},
     "output_type": "display_data"
    }
   ],
   "source": [
    "# Sorting countries based on their investment scores\n",
    "dfedc = dfedcp[['Country Name', 'Country Code', 'Score']]\n",
    "dfedc.sort_values(by=['Score'], inplace=True, ascending=False)\n",
    "\n",
    "# Visualizing the top 15 countries with the highest investment scores\n",
    "labels = dfedc['Country Name'].head(15)\n",
    "score = dfedc['Score'].head(15)\n",
    "width = 0.5\n",
    "\n",
    "fig, ax = plt.subplots(figsize=(12, 8))\n",
    "ax.barh(labels, score, width, label='Investment Score')\n",
    "ax.set_ylabel('Scores', rotation=90, fontsize=20, labelpad=20)\n",
    "ax.set_xlabel('Country', rotation=0, fontsize=20, labelpad=20)\n",
    "ax.set_title('Best Investment')\n",
    "ax.set_ylim(ax.get_ylim()[::-1])\n",
    "ax.legend()\n",
    "plt.xticks(rotation=90)\n",
    "plt.show()\n",
    "\n",
    "# Visualizing the investment scores for the rest of the countries on a choropleth map\n",
    "fig = px.choropleth(dfedc.iloc[15:], locations=\"Country Code\",\n",
    "                    color=\"Score\",\n",
    "                    hover_name=\"Country Name\",\n",
    "                    color_continuous_scale=px.colors.sequential.Plasma)\n",
    "fig.show()"
   ]
  },
  {
   "cell_type": "code",
   "execution_count": 15,
   "id": "6652502a",
   "metadata": {},
   "outputs": [
    {
     "name": "stderr",
     "output_type": "stream",
     "text": [
      "/tmp/ipykernel_17134/1116201379.py:2: SettingWithCopyWarning:\n",
      "\n",
      "\n",
      "A value is trying to be set on a copy of a slice from a DataFrame.\n",
      "Try using .loc[row_indexer,col_indexer] = value instead\n",
      "\n",
      "See the caveats in the documentation: https://pandas.pydata.org/pandas-docs/stable/user_guide/indexing.html#returning-a-view-versus-a-copy\n",
      "\n"
     ]
    },
    {
     "data": {
      "image/png": "[encoded data removed]",
      "text/plain": [
       "<Figure size 640x480 with 1 Axes>"
      ]
     },
     "metadata": {},
     "output_type": "display_data"
    }
   ],
   "source": [
    "# Creating a top 5 list of Sub-regions based on average scores\n",
    "dfedc['Sub-region Name'] = dfedc['Country Code'].map(uncountries.set_index('ISO-alpha3 Code')['Sub-region Name'])\n",
    "dfedsp = pd.pivot_table(dfedc, columns=['Sub-region Name'], values=['Score'])\n",
    "dfedsp = dfedsp.reset_index()\n",
    "dfeds = pd.DataFrame(dfedsp.mean(numeric_only=True, axis=0))\n",
    "dfeds = dfeds.reset_index()\n",
    "dfeds.columns = ['Sub-region Name', 'Score']\n",
    "dfeds.sort_values(by=['Score'], inplace=True, ascending=False)\n",
    "\n",
    "# Visualizing the top 5 Sub-regions with the highest average scores\n",
    "labels = dfeds['Sub-region Name'].head(5)\n",
    "score = dfeds['Score'].head(5)\n",
    "width = 0.5\n",
    "\n",
    "fig, ax = plt.subplots()\n",
    "ax.barh(labels, score, width, label='Investment Score')\n",
    "ax.set_ylabel('Scores', rotation=90, fontsize=20, labelpad=20)\n",
    "ax.set_xlabel('Sub-Region', rotation=0, fontsize=20, labelpad=20)\n",
    "ax.set_title('Best Investment')\n",
    "ax.set_ylim(ax.get_ylim()[::-1])\n",
    "ax.legend()\n",
    "plt.xticks(rotation=0)\n",
    "plt.show()"
   ]
  },
  {
   "cell_type": "code",
   "execution_count": 16,
   "id": "acdb1713",
   "metadata": {},
   "outputs": [
    {
     "data": {
      "application/vnd.plotly.v1+json": {
       "config": {
        "plotlyServerURL": "https://plot.ly"
       },
       "data": [
        {
         "coloraxis": "coloraxis",
         "geo": "geo",
         "hovertemplate": "<b>%{hovertext}</b><br><br>Country Code=%{location}<br>Score=%{z}<extra></extra>",
         "hovertext": [
          "Monaco",
          "Greenland",
          "Isle of Man",
          "Faroe Islands",
          "Montenegro",
          "French Polynesia",
          "Northern Mariana Islands",
          "Virgin Islands (U.S.)",
          "New Caledonia",
          "Guam",
          "American Samoa",
          "Macao SAR, China",
          "Qatar",
          "Brunei Darussalam",
          "Barbados",
          "Dominica",
          "Bahamas, The",
          "Grenada",
          "Malta",
          "Marshall Islands",
          "St. Lucia",
          "Nauru",
          "British Virgin Islands",
          "Cyprus",
          "Bahrain",
          "St. Vincent and the Grenadines",
          "Turks and Caicos Islands",
          "Curacao",
          "Tonga",
          "Micronesia, Fed. Sts.",
          "Slovenia",
          "United Arab Emirates",
          "Norway",
          "Tuvalu",
          "Estonia",
          "Kuwait",
          "Switzerland",
          "Maldives",
          "Equatorial Guinea",
          "Samoa",
          "Denmark",
          "Kiribati",
          "Belize",
          "Ireland",
          "Finland",
          "Singapore",
          "Vanuatu",
          "Suriname",
          "Trinidad and Tobago",
          "Sao Tome and Principe",
          "New Zealand",
          "Latvia",
          "Sweden",
          "Austria",
          "Hong Kong SAR, China",
          "Mauritius",
          "Gabon",
          "Belgium",
          "Lithuania",
          "Croatia",
          "Oman",
          "Cabo Verde",
          "Israel",
          "Fiji",
          "Netherlands",
          "Slovak Republic",
          "Uruguay",
          "Macedonia, FYR",
          "Solomon Islands",
          "Greece",
          "Australia",
          "Czech Republic",
          "Guyana",
          "Portugal",
          "Bhutan",
          "Lebanon",
          "Panama",
          "Botswana",
          "Hungary",
          "Namibia",
          "Libya",
          "Swaziland",
          "Canada",
          "Djibouti",
          "Bosnia and Herzegovina",
          "Costa Rica",
          "Jamaica",
          "Bulgaria",
          "Albania",
          "Armenia",
          "Comoros",
          "Italy",
          "United Kingdom",
          "France",
          "Mongolia",
          "Spain",
          "Timor-Leste",
          "Georgia",
          "Germany",
          "Belarus",
          "Turkmenistan",
          "Saudi Arabia",
          "Chile",
          "Cuba",
          "West Bank and Gaza",
          "Kazakhstan",
          "Azerbaijan",
          "Moldova",
          "Japan",
          "Jordan",
          "Korea, Rep.",
          "Congo, Rep.",
          "Romania",
          "Paraguay",
          "Poland",
          "El Salvador",
          "Dominican Republic",
          "Gambia, The",
          "Lesotho",
          "Tunisia",
          "Venezuela, RB",
          "Ecuador",
          "Mauritania",
          "Argentina",
          "Nicaragua",
          "Malaysia",
          "United States",
          "Papua New Guinea",
          "Kyrgyz Republic",
          "Guinea-Bissau",
          "Honduras",
          "Bolivia",
          "Lao PDR",
          "Peru",
          "South Africa",
          "Iraq",
          "Algeria",
          "Guatemala",
          "Turkey",
          "Sri Lanka",
          "Colombia",
          "Morocco",
          "Russian Federation",
          "Mexico",
          "Syrian Arab Republic",
          "Tajikistan",
          "Iran, Islamic Rep.",
          "Central African Republic",
          "Zimbabwe",
          "Thailand",
          "Ukraine",
          "Angola",
          "Haiti",
          "Uzbekistan",
          "Eritrea",
          "Brazil",
          "Myanmar",
          "Cambodia",
          "Cameroon",
          "Senegal",
          "Vietnam",
          "Liberia",
          "Togo",
          "Zambia",
          "Cote d'Ivoire",
          "Egypt, Arab Rep.",
          "Indonesia",
          "Sierra Leone",
          "Korea, Dem. People’s Rep.",
          "Ghana",
          "China",
          "Guinea",
          "Philippines",
          "Somalia",
          "India",
          "Benin",
          "Bangladesh",
          "Rwanda",
          "Nepal",
          "Pakistan",
          "Sudan",
          "Kenya",
          "Yemen, Rep.",
          "Burundi",
          "Burkina Faso",
          "Chad",
          "Mali",
          "Mozambique",
          "Madagascar",
          "Tanzania",
          "Malawi",
          "Nigeria",
          "Ethiopia",
          "Afghanistan",
          "Congo, Dem. Rep.",
          "Uganda",
          "Niger",
          "Gibraltar"
         ],
         "locations": [
          "MCO",
          "GRL",
          "IMN",
          "FRO",
          "MNE",
          "PYF",
          "MNP",
          "VIR",
          "NCL",
          "GUM",
          "ASM",
          "MAC",
          "QAT",
          "BRN",
          "BRB",
          "DMA",
          "BHS",
          "GRD",
          "MLT",
          "MHL",
          "LCA",
          "NRU",
          "VGB",
          "CYP",
          "BHR",
          "VCT",
          "TCA",
          "CUW",
          "TON",
          "FSM",
          "SVN",
          "ARE",
          "NOR",
          "TUV",
          "EST",
          "KWT",
          "CHE",
          "MDV",
          "GNQ",
          "WSM",
          "DNK",
          "KIR",
          "BLZ",
          "IRL",
          "FIN",
          "SGP",
          "VUT",
          "SUR",
          "TTO",
          "STP",
          "NZL",
          "LVA",
          "SWE",
          "AUT",
          "HKG",
          "MUS",
          "GAB",
          "BEL",
          "LTU",
          "HRV",
          "OMN",
          "CPV",
          "ISR",
          "FJI",
          "NLD",
          "SVK",
          "URY",
          "MKD",
          "SLB",
          "GRC",
          "AUS",
          "CZE",
          "GUY",
          "PRT",
          "BTN",
          "LBN",
          "PAN",
          "BWA",
          "HUN",
          "NAM",
          "LBY",
          "SWZ",
          "CAN",
          "DJI",
          "BIH",
          "CRI",
          "JAM",
          "BGR",
          "ALB",
          "ARM",
          "COM",
          "ITA",
          "GBR",
          "FRA",
          "MNG",
          "ESP",
          "TLS",
          "GEO",
          "DEU",
          "BLR",
          "TKM",
          "SAU",
          "CHL",
          "CUB",
          "PSE",
          "KAZ",
          "AZE",
          "MDA",
          "JPN",
          "JOR",
          "KOR",
          "COG",
          "ROU",
          "PRY",
          "POL",
          "SLV",
          "DOM",
          "GMB",
          "LSO",
          "TUN",
          "VEN",
          "ECU",
          "MRT",
          "ARG",
          "NIC",
          "MYS",
          "USA",
          "PNG",
          "KGZ",
          "GNB",
          "HND",
          "BOL",
          "LAO",
          "PER",
          "ZAF",
          "IRQ",
          "DZA",
          "GTM",
          "TUR",
          "LKA",
          "COL",
          "MAR",
          "RUS",
          "MEX",
          "SYR",
          "TJK",
          "IRN",
          "CAF",
          "ZWE",
          "THA",
          "UKR",
          "AGO",
          "HTI",
          "UZB",
          "ERI",
          "BRA",
          "MMR",
          "KHM",
          "CMR",
          "SEN",
          "VNM",
          "LBR",
          "TGO",
          "ZMB",
          "CIV",
          "EGY",
          "IDN",
          "SLE",
          "PRK",
          "GHA",
          "CHN",
          "GIN",
          "PHL",
          "SOM",
          "IND",
          "BEN",
          "BGD",
          "RWA",
          "NPL",
          "PAK",
          "SDN",
          "KEN",
          "YEM",
          "BDI",
          "BFA",
          "TCD",
          "MLI",
          "MOZ",
          "MDG",
          "TZA",
          "MWI",
          "NGA",
          "ETH",
          "AFG",
          "COD",
          "UGA",
          "NER",
          "GIB"
         ],
         "name": "",
         "type": "choropleth",
         "z": [
          0.2747767853246019,
          0.27472112789737807,
          0.27472112789737807,
          0.27472112789737807,
          0.27472112789737807,
          0.274721127897378,
          0.274721127897378,
          0.274721127897378,
          0.274721127897378,
          0.274721127897378,
          0.274721127897378,
          0.2741911055113167,
          0.26346145891560147,
          0.2559489279099361,
          0.2554890960362726,
          0.2458388079694329,
          0.24186827604201783,
          0.21816127692243553,
          0.21719379921893156,
          0.21536284172369688,
          0.19920861962705416,
          0.19611613513818404,
          0.1931473542993317,
          0.19197374857940763,
          0.18618592603789985,
          0.18418808661952102,
          0.1839559973254046,
          0.1696666938497757,
          0.15670928859004268,
          0.15620038949202733,
          0.14983254386299086,
          0.14780676215960728,
          0.144751223383879,
          0.14173839422224457,
          0.13899571724422863,
          0.13715346663324077,
          0.13482892218081627,
          0.13023586251232525,
          0.12899235271383463,
          0.12797644508786762,
          0.12794009455909464,
          0.12723182492604085,
          0.12534925627602755,
          0.12109347452240965,
          0.12024629815643127,
          0.11960606503284721,
          0.11878151203571652,
          0.11861110693283584,
          0.11458341517742701,
          0.11419961368582293,
          0.11316531608746334,
          0.11160640398642682,
          0.11009150589074015,
          0.10938524515111776,
          0.10569667381203235,
          0.10425319106805105,
          0.10327228365716629,
          0.10308892509326921,
          0.10231110514301911,
          0.10159906721689906,
          0.10047631983403782,
          0.09908714713937777,
          0.09901602998553169,
          0.0985995383668536,
          0.0977764204541651,
          0.0974695231513305,
          0.09530457535808473,
          0.09497365578350962,
          0.09481205241050754,
          0.09441530576647464,
          0.09374195265002691,
          0.09366985457123946,
          0.09344323094120541,
          0.09300899620166177,
          0.09289985959007722,
          0.09236180420359152,
          0.09231992497170854,
          0.09222337448486735,
          0.0917854402528078,
          0.09138935518922701,
          0.09110502138766706,
          0.09097247745247077,
          0.0908308267886425,
          0.09077006870611823,
          0.0906419385002551,
          0.08997692425148274,
          0.08995441887066256,
          0.08867291112154435,
          0.08859167191080095,
          0.0885121251171994,
          0.08835866505906162,
          0.08828341945174452,
          0.08826111328762708,
          0.08814623467402422,
          0.08813764741238811,
          0.08809504184864815,
          0.0879456959053828,
          0.08792715057220223,
          0.08790872525324853,
          0.08770772563881424,
          0.08768356058796059,
          0.08743096948290847,
          0.08726981365439677,
          0.08720511914717263,
          0.08713464799085308,
          0.08704440255978352,
          0.08703072897513003,
          0.0870099616978561,
          0.08700848088482532,
          0.08689111050143579,
          0.08670895782611358,
          0.08668741499485795,
          0.08666954276383176,
          0.08663610866647245,
          0.08662598629329978,
          0.0865987133796383,
          0.08658068984017302,
          0.0865049283561911,
          0.08643387703373705,
          0.08642632816484368,
          0.086254809805075,
          0.08625338478603416,
          0.08624292391645175,
          0.08620191837329665,
          0.08619796503267588,
          0.08615895073091603,
          0.08606166015060052,
          0.08601767098077238,
          0.08596259341645712,
          0.08592083146056756,
          0.08591197245424197,
          0.08584689149458226,
          0.08583996761922472,
          0.08578442990932819,
          0.08573948183514984,
          0.08573709644472165,
          0.08573458731926913,
          0.08571195207436717,
          0.08570206539806038,
          0.08569280241887148,
          0.0856704972754368,
          0.08561481676595277,
          0.08560803524649592,
          0.08560418512239028,
          0.08559422861855331,
          0.08559422405987914,
          0.08558532294383839,
          0.08557969655656567,
          0.08557326986531553,
          0.08556870870414625,
          0.0855642820845028,
          0.08555879321373984,
          0.08554962729888935,
          0.08553483578928235,
          0.085533325271988,
          0.0855112516088517,
          0.08547288255310032,
          0.08544547428214039,
          0.08544391083054363,
          0.0854432799534656,
          0.08544191838167135,
          0.0854385898236252,
          0.08543659818588394,
          0.08543437356327575,
          0.08543229678564301,
          0.08542872906286479,
          0.08542594118254586,
          0.08541992885520028,
          0.08540103577781716,
          0.0853988927470863,
          0.08539366740296939,
          0.08538665989934406,
          0.0853856635937394,
          0.08538034697299968,
          0.08535953234721466,
          0.0853555914482863,
          0.08535216811584259,
          0.08534791442373442,
          0.08532306972633383,
          0.08532140800925868,
          0.08531690823376867,
          0.08528365535747809,
          0.08527928281392516,
          0.08526642837169435,
          0.08525234443585819,
          0.08523759519441594,
          0.08523642590335358,
          0.08522144154161332,
          0.08521221350269118,
          0.08519589901706572,
          0.08517045725130411,
          0.08516823617824898,
          0.08515434191873596,
          0.08512633770499414,
          0.08507753012163122,
          0.08506098090733401,
          0.08492512296458211,
          0
         ]
        }
       ],
       "layout": {
        "coloraxis": {
         "colorbar": {
          "title": {
           "text": "Score"
          }
         },
         "colorscale": [
          [
           0,
           "#0d0887"
          ],
          [
           0.1111111111111111,
           "#46039f"
          ],
          [
           0.2222222222222222,
           "#7201a8"
          ],
          [
           0.3333333333333333,
           "#9c179e"
          ],
          [
           0.4444444444444444,
           "#bd3786"
          ],
          [
           0.5555555555555556,
           "#d8576b"
          ],
          [
           0.6666666666666666,
           "#ed7953"
          ],
          [
           0.7777777777777778,
           "#fb9f3a"
          ],
          [
           0.8888888888888888,
           "#fdca26"
          ],
          [
           1,
           "#f0f921"
          ]
         ]
        },
        "geo": {
         "center": {},
         "domain": {
          "x": [
           0,
           1
          ],
          "y": [
           0,
           1
          ]
         }
        },
        "legend": {
         "tracegroupgap": 0
        },
        "margin": {
         "t": 60
        },
        "template": {
         "data": {
          "bar": [
           {
            "error_x": {
             "color": "#2a3f5f"
            },
            "error_y": {
             "color": "#2a3f5f"
            },
            "marker": {
             "line": {
              "color": "#E5ECF6",
              "width": 0.5
             },
             "pattern": {
              "fillmode": "overlay",
              "size": 10,
              "solidity": 0.2
             }
            },
            "type": "bar"
           }
          ],
          "barpolar": [
           {
            "marker": {
             "line": {
              "color": "#E5ECF6",
              "width": 0.5
             },
             "pattern": {
              "fillmode": "overlay",
              "size": 10,
              "solidity": 0.2
             }
            },
            "type": "barpolar"
           }
          ],
          "carpet": [
           {
            "aaxis": {
             "endlinecolor": "#2a3f5f",
             "gridcolor": "white",
             "linecolor": "white",
             "minorgridcolor": "white",
             "startlinecolor": "#2a3f5f"
            },
            "baxis": {
             "endlinecolor": "#2a3f5f",
             "gridcolor": "white",
             "linecolor": "white",
             "minorgridcolor": "white",
             "startlinecolor": "#2a3f5f"
            },
            "type": "carpet"
           }
          ],
          "choropleth": [
           {
            "colorbar": {
             "outlinewidth": 0,
             "ticks": ""
            },
            "type": "choropleth"
           }
          ],
          "contour": [
           {
            "colorbar": {
             "outlinewidth": 0,
             "ticks": ""
            },
            "colorscale": [
             [
              0,
              "#0d0887"
             ],
             [
              0.1111111111111111,
              "#46039f"
             ],
             [
              0.2222222222222222,
              "#7201a8"
             ],
             [
              0.3333333333333333,
              "#9c179e"
             ],
             [
              0.4444444444444444,
              "#bd3786"
             ],
             [
              0.5555555555555556,
              "#d8576b"
             ],
             [
              0.6666666666666666,
              "#ed7953"
             ],
             [
              0.7777777777777778,
              "#fb9f3a"
             ],
             [
              0.8888888888888888,
              "#fdca26"
             ],
             [
              1,
              "#f0f921"
             ]
            ],
            "type": "contour"
           }
          ],
          "contourcarpet": [
           {
            "colorbar": {
             "outlinewidth": 0,
             "ticks": ""
            },
            "type": "contourcarpet"
           }
          ],
          "heatmap": [
           {
            "colorbar": {
             "outlinewidth": 0,
             "ticks": ""
            },
            "colorscale": [
             [
              0,
              "#0d0887"
             ],
             [
              0.1111111111111111,
              "#46039f"
             ],
             [
              0.2222222222222222,
              "#7201a8"
             ],
             [
              0.3333333333333333,
              "#9c179e"
             ],
             [
              0.4444444444444444,
              "#bd3786"
             ],
             [
              0.5555555555555556,
              "#d8576b"
             ],
             [
              0.6666666666666666,
              "#ed7953"
             ],
             [
              0.7777777777777778,
              "#fb9f3a"
             ],
             [
              0.8888888888888888,
              "#fdca26"
             ],
             [
              1,
              "#f0f921"
             ]
            ],
            "type": "heatmap"
           }
          ],
          "heatmapgl": [
           {
            "colorbar": {
             "outlinewidth": 0,
             "ticks": ""
            },
            "colorscale": [
             [
              0,
              "#0d0887"
             ],
             [
              0.1111111111111111,
              "#46039f"
             ],
             [
              0.2222222222222222,
              "#7201a8"
             ],
             [
              0.3333333333333333,
              "#9c179e"
             ],
             [
              0.4444444444444444,
              "#bd3786"
             ],
             [
              0.5555555555555556,
              "#d8576b"
             ],
             [
              0.6666666666666666,
              "#ed7953"
             ],
             [
              0.7777777777777778,
              "#fb9f3a"
             ],
             [
              0.8888888888888888,
              "#fdca26"
             ],
             [
              1,
              "#f0f921"
             ]
            ],
            "type": "heatmapgl"
           }
          ],
          "histogram": [
           {
            "marker": {
             "pattern": {
              "fillmode": "overlay",
              "size": 10,
              "solidity": 0.2
             }
            },
            "type": "histogram"
           }
          ],
          "histogram2d": [
           {
            "colorbar": {
             "outlinewidth": 0,
             "ticks": ""
            },
            "colorscale": [
             [
              0,
              "#0d0887"
             ],
             [
              0.1111111111111111,
              "#46039f"
             ],
             [
              0.2222222222222222,
              "#7201a8"
             ],
             [
              0.3333333333333333,
              "#9c179e"
             ],
             [
              0.4444444444444444,
              "#bd3786"
             ],
             [
              0.5555555555555556,
              "#d8576b"
             ],
             [
              0.6666666666666666,
              "#ed7953"
             ],
             [
              0.7777777777777778,
              "#fb9f3a"
             ],
             [
              0.8888888888888888,
              "#fdca26"
             ],
             [
              1,
              "#f0f921"
             ]
            ],
            "type": "histogram2d"
           }
          ],
          "histogram2dcontour": [
           {
            "colorbar": {
             "outlinewidth": 0,
             "ticks": ""
            },
            "colorscale": [
             [
              0,
              "#0d0887"
             ],
             [
              0.1111111111111111,
              "#46039f"
             ],
             [
              0.2222222222222222,
              "#7201a8"
             ],
             [
              0.3333333333333333,
              "#9c179e"
             ],
             [
              0.4444444444444444,
              "#bd3786"
             ],
             [
              0.5555555555555556,
              "#d8576b"
             ],
             [
              0.6666666666666666,
              "#ed7953"
             ],
             [
              0.7777777777777778,
              "#fb9f3a"
             ],
             [
              0.8888888888888888,
              "#fdca26"
             ],
             [
              1,
              "#f0f921"
             ]
            ],
            "type": "histogram2dcontour"
           }
          ],
          "mesh3d": [
           {
            "colorbar": {
             "outlinewidth": 0,
             "ticks": ""
            },
            "type": "mesh3d"
           }
          ],
          "parcoords": [
           {
            "line": {
             "colorbar": {
              "outlinewidth": 0,
              "ticks": ""
             }
            },
            "type": "parcoords"
           }
          ],
          "pie": [
           {
            "automargin": true,
            "type": "pie"
           }
          ],
          "scatter": [
           {
            "fillpattern": {
             "fillmode": "overlay",
             "size": 10,
             "solidity": 0.2
            },
            "type": "scatter"
           }
          ],
          "scatter3d": [
           {
            "line": {
             "colorbar": {
              "outlinewidth": 0,
              "ticks": ""
             }
            },
            "marker": {
             "colorbar": {
              "outlinewidth": 0,
              "ticks": ""
             }
            },
            "type": "scatter3d"
           }
          ],
          "scattercarpet": [
           {
            "marker": {
             "colorbar": {
              "outlinewidth": 0,
              "ticks": ""
             }
            },
            "type": "scattercarpet"
           }
          ],
          "scattergeo": [
           {
            "marker": {
             "colorbar": {
              "outlinewidth": 0,
              "ticks": ""
             }
            },
            "type": "scattergeo"
           }
          ],
          "scattergl": [
           {
            "marker": {
             "colorbar": {
              "outlinewidth": 0,
              "ticks": ""
             }
            },
            "type": "scattergl"
           }
          ],
          "scattermapbox": [
           {
            "marker": {
             "colorbar": {
              "outlinewidth": 0,
              "ticks": ""
             }
            },
            "type": "scattermapbox"
           }
          ],
          "scatterpolar": [
           {
            "marker": {
             "colorbar": {
              "outlinewidth": 0,
              "ticks": ""
             }
            },
            "type": "scatterpolar"
           }
          ],
          "scatterpolargl": [
           {
            "marker": {
             "colorbar": {
              "outlinewidth": 0,
              "ticks": ""
             }
            },
            "type": "scatterpolargl"
           }
          ],
          "scatterternary": [
           {
            "marker": {
             "colorbar": {
              "outlinewidth": 0,
              "ticks": ""
             }
            },
            "type": "scatterternary"
           }
          ],
          "surface": [
           {
            "colorbar": {
             "outlinewidth": 0,
             "ticks": ""
            },
            "colorscale": [
             [
              0,
              "#0d0887"
             ],
             [
              0.1111111111111111,
              "#46039f"
             ],
             [
              0.2222222222222222,
              "#7201a8"
             ],
             [
              0.3333333333333333,
              "#9c179e"
             ],
             [
              0.4444444444444444,
              "#bd3786"
             ],
             [
              0.5555555555555556,
              "#d8576b"
             ],
             [
              0.6666666666666666,
              "#ed7953"
             ],
             [
              0.7777777777777778,
              "#fb9f3a"
             ],
             [
              0.8888888888888888,
              "#fdca26"
             ],
             [
              1,
              "#f0f921"
             ]
            ],
            "type": "surface"
           }
          ],
          "table": [
           {
            "cells": {
             "fill": {
              "color": "#EBF0F8"
             },
             "line": {
              "color": "white"
             }
            },
            "header": {
             "fill": {
              "color": "#C8D4E3"
             },
             "line": {
              "color": "white"
             }
            },
            "type": "table"
           }
          ]
         },
         "layout": {
          "annotationdefaults": {
           "arrowcolor": "#2a3f5f",
           "arrowhead": 0,
           "arrowwidth": 1
          },
          "autotypenumbers": "strict",
          "coloraxis": {
           "colorbar": {
            "outlinewidth": 0,
            "ticks": ""
           }
          },
          "colorscale": {
           "diverging": [
            [
             0,
             "#8e0152"
            ],
            [
             0.1,
             "#c51b7d"
            ],
            [
             0.2,
             "#de77ae"
            ],
            [
             0.3,
             "#f1b6da"
            ],
            [
             0.4,
             "#fde0ef"
            ],
            [
             0.5,
             "#f7f7f7"
            ],
            [
             0.6,
             "#e6f5d0"
            ],
            [
             0.7,
             "#b8e186"
            ],
            [
             0.8,
             "#7fbc41"
            ],
            [
             0.9,
             "#4d9221"
            ],
            [
             1,
             "#276419"
            ]
           ],
           "sequential": [
            [
             0,
             "#0d0887"
            ],
            [
             0.1111111111111111,
             "#46039f"
            ],
            [
             0.2222222222222222,
             "#7201a8"
            ],
            [
             0.3333333333333333,
             "#9c179e"
            ],
            [
             0.4444444444444444,
             "#bd3786"
            ],
            [
             0.5555555555555556,
             "#d8576b"
            ],
            [
             0.6666666666666666,
             "#ed7953"
            ],
            [
             0.7777777777777778,
             "#fb9f3a"
            ],
            [
             0.8888888888888888,
             "#fdca26"
            ],
            [
             1,
             "#f0f921"
            ]
           ],
           "sequentialminus": [
            [
             0,
             "#0d0887"
            ],
            [
             0.1111111111111111,
             "#46039f"
            ],
            [
             0.2222222222222222,
             "#7201a8"
            ],
            [
             0.3333333333333333,
             "#9c179e"
            ],
            [
             0.4444444444444444,
             "#bd3786"
            ],
            [
             0.5555555555555556,
             "#d8576b"
            ],
            [
             0.6666666666666666,
             "#ed7953"
            ],
            [
             0.7777777777777778,
             "#fb9f3a"
            ],
            [
             0.8888888888888888,
             "#fdca26"
            ],
            [
             1,
             "#f0f921"
            ]
           ]
          },
          "colorway": [
           "#636efa",
           "#EF553B",
           "#00cc96",
           "#ab63fa",
           "#FFA15A",
           "#19d3f3",
           "#FF6692",
           "#B6E880",
           "#FF97FF",
           "#FECB52"
          ],
          "font": {
           "color": "#2a3f5f"
          },
          "geo": {
           "bgcolor": "white",
           "lakecolor": "white",
           "landcolor": "#E5ECF6",
           "showlakes": true,
           "showland": true,
           "subunitcolor": "white"
          },
          "hoverlabel": {
           "align": "left"
          },
          "hovermode": "closest",
          "mapbox": {
           "style": "light"
          },
          "paper_bgcolor": "white",
          "plot_bgcolor": "#E5ECF6",
          "polar": {
           "angularaxis": {
            "gridcolor": "white",
            "linecolor": "white",
            "ticks": ""
           },
           "bgcolor": "#E5ECF6",
           "radialaxis": {
            "gridcolor": "white",
            "linecolor": "white",
            "ticks": ""
           }
          },
          "scene": {
           "xaxis": {
            "backgroundcolor": "#E5ECF6",
            "gridcolor": "white",
            "gridwidth": 2,
            "linecolor": "white",
            "showbackground": true,
            "ticks": "",
            "zerolinecolor": "white"
           },
           "yaxis": {
            "backgroundcolor": "#E5ECF6",
            "gridcolor": "white",
            "gridwidth": 2,
            "linecolor": "white",
            "showbackground": true,
            "ticks": "",
            "zerolinecolor": "white"
           },
           "zaxis": {
            "backgroundcolor": "#E5ECF6",
            "gridcolor": "white",
            "gridwidth": 2,
            "linecolor": "white",
            "showbackground": true,
            "ticks": "",
            "zerolinecolor": "white"
           }
          },
          "shapedefaults": {
           "line": {
            "color": "#2a3f5f"
           }
          },
          "ternary": {
           "aaxis": {
            "gridcolor": "white",
            "linecolor": "white",
            "ticks": ""
           },
           "baxis": {
            "gridcolor": "white",
            "linecolor": "white",
            "ticks": ""
           },
           "bgcolor": "#E5ECF6",
           "caxis": {
            "gridcolor": "white",
            "linecolor": "white",
            "ticks": ""
           }
          },
          "title": {
           "x": 0.05
          },
          "xaxis": {
           "automargin": true,
           "gridcolor": "white",
           "linecolor": "white",
           "ticks": "",
           "title": {
            "standoff": 15
           },
           "zerolinecolor": "white",
           "zerolinewidth": 2
          },
          "yaxis": {
           "automargin": true,
           "gridcolor": "white",
           "linecolor": "white",
           "ticks": "",
           "title": {
            "standoff": 15
           },
           "zerolinecolor": "white",
           "zerolinewidth": 2
          }
         }
        }
       }
      },
      "text/html": [
       "<div>                            <div id=\"d05429ea-f99b-4aef-830f-67c46f408d49\" class=\"plotly-graph-div\" style=\"height:525px; width:100%;\"></div>            <script type=\"text/javascript\">                require([\"plotly\"], function(Plotly) {                    window.PLOTLYENV=window.PLOTLYENV || {};                                    if (document.getElementById(\"d05429ea-f99b-4aef-830f-67c46f408d49\")) {                    Plotly.newPlot(                        \"d05429ea-f99b-4aef-830f-67c46f408d49\",                        [{\"coloraxis\":\"coloraxis\",\"geo\":\"geo\",\"hovertemplate\":\"<b>%{hovertext}</b><br><br>Country Code=%{location}<br>Score=%{z}<extra></extra>\",\"hovertext\":[\"Monaco\",\"Greenland\",\"Isle of Man\",\"Faroe Islands\",\"Montenegro\",\"French Polynesia\",\"Northern Mariana Islands\",\"Virgin Islands (U.S.)\",\"New Caledonia\",\"Guam\",\"American Samoa\",\"Macao SAR, China\",\"Qatar\",\"Brunei Darussalam\",\"Barbados\",\"Dominica\",\"Bahamas, The\",\"Grenada\",\"Malta\",\"Marshall Islands\",\"St. Lucia\",\"Nauru\",\"British Virgin Islands\",\"Cyprus\",\"Bahrain\",\"St. Vincent and the Grenadines\",\"Turks and Caicos Islands\",\"Curacao\",\"Tonga\",\"Micronesia, Fed. Sts.\",\"Slovenia\",\"United Arab Emirates\",\"Norway\",\"Tuvalu\",\"Estonia\",\"Kuwait\",\"Switzerland\",\"Maldives\",\"Equatorial Guinea\",\"Samoa\",\"Denmark\",\"Kiribati\",\"Belize\",\"Ireland\",\"Finland\",\"Singapore\",\"Vanuatu\",\"Suriname\",\"Trinidad and Tobago\",\"Sao Tome and Principe\",\"New Zealand\",\"Latvia\",\"Sweden\",\"Austria\",\"Hong Kong SAR, China\",\"Mauritius\",\"Gabon\",\"Belgium\",\"Lithuania\",\"Croatia\",\"Oman\",\"Cabo Verde\",\"Israel\",\"Fiji\",\"Netherlands\",\"Slovak Republic\",\"Uruguay\",\"Macedonia, FYR\",\"Solomon Islands\",\"Greece\",\"Australia\",\"Czech Republic\",\"Guyana\",\"Portugal\",\"Bhutan\",\"Lebanon\",\"Panama\",\"Botswana\",\"Hungary\",\"Namibia\",\"Libya\",\"Swaziland\",\"Canada\",\"Djibouti\",\"Bosnia and Herzegovina\",\"Costa Rica\",\"Jamaica\",\"Bulgaria\",\"Albania\",\"Armenia\",\"Comoros\",\"Italy\",\"United Kingdom\",\"France\",\"Mongolia\",\"Spain\",\"Timor-Leste\",\"Georgia\",\"Germany\",\"Belarus\",\"Turkmenistan\",\"Saudi Arabia\",\"Chile\",\"Cuba\",\"West Bank and Gaza\",\"Kazakhstan\",\"Azerbaijan\",\"Moldova\",\"Japan\",\"Jordan\",\"Korea, Rep.\",\"Congo, Rep.\",\"Romania\",\"Paraguay\",\"Poland\",\"El Salvador\",\"Dominican Republic\",\"Gambia, The\",\"Lesotho\",\"Tunisia\",\"Venezuela, RB\",\"Ecuador\",\"Mauritania\",\"Argentina\",\"Nicaragua\",\"Malaysia\",\"United States\",\"Papua New Guinea\",\"Kyrgyz Republic\",\"Guinea-Bissau\",\"Honduras\",\"Bolivia\",\"Lao PDR\",\"Peru\",\"South Africa\",\"Iraq\",\"Algeria\",\"Guatemala\",\"Turkey\",\"Sri Lanka\",\"Colombia\",\"Morocco\",\"Russian Federation\",\"Mexico\",\"Syrian Arab Republic\",\"Tajikistan\",\"Iran, Islamic Rep.\",\"Central African Republic\",\"Zimbabwe\",\"Thailand\",\"Ukraine\",\"Angola\",\"Haiti\",\"Uzbekistan\",\"Eritrea\",\"Brazil\",\"Myanmar\",\"Cambodia\",\"Cameroon\",\"Senegal\",\"Vietnam\",\"Liberia\",\"Togo\",\"Zambia\",\"Cote d'Ivoire\",\"Egypt, Arab Rep.\",\"Indonesia\",\"Sierra Leone\",\"Korea, Dem. People\\u2019s Rep.\",\"Ghana\",\"China\",\"Guinea\",\"Philippines\",\"Somalia\",\"India\",\"Benin\",\"Bangladesh\",\"Rwanda\",\"Nepal\",\"Pakistan\",\"Sudan\",\"Kenya\",\"Yemen, Rep.\",\"Burundi\",\"Burkina Faso\",\"Chad\",\"Mali\",\"Mozambique\",\"Madagascar\",\"Tanzania\",\"Malawi\",\"Nigeria\",\"Ethiopia\",\"Afghanistan\",\"Congo, Dem. Rep.\",\"Uganda\",\"Niger\",\"Gibraltar\"],\"locations\":[\"MCO\",\"GRL\",\"IMN\",\"FRO\",\"MNE\",\"PYF\",\"MNP\",\"VIR\",\"NCL\",\"GUM\",\"ASM\",\"MAC\",\"QAT\",\"BRN\",\"BRB\",\"DMA\",\"BHS\",\"GRD\",\"MLT\",\"MHL\",\"LCA\",\"NRU\",\"VGB\",\"CYP\",\"BHR\",\"VCT\",\"TCA\",\"CUW\",\"TON\",\"FSM\",\"SVN\",\"ARE\",\"NOR\",\"TUV\",\"EST\",\"KWT\",\"CHE\",\"MDV\",\"GNQ\",\"WSM\",\"DNK\",\"KIR\",\"BLZ\",\"IRL\",\"FIN\",\"SGP\",\"VUT\",\"SUR\",\"TTO\",\"STP\",\"NZL\",\"LVA\",\"SWE\",\"AUT\",\"HKG\",\"MUS\",\"GAB\",\"BEL\",\"LTU\",\"HRV\",\"OMN\",\"CPV\",\"ISR\",\"FJI\",\"NLD\",\"SVK\",\"URY\",\"MKD\",\"SLB\",\"GRC\",\"AUS\",\"CZE\",\"GUY\",\"PRT\",\"BTN\",\"LBN\",\"PAN\",\"BWA\",\"HUN\",\"NAM\",\"LBY\",\"SWZ\",\"CAN\",\"DJI\",\"BIH\",\"CRI\",\"JAM\",\"BGR\",\"ALB\",\"ARM\",\"COM\",\"ITA\",\"GBR\",\"FRA\",\"MNG\",\"ESP\",\"TLS\",\"GEO\",\"DEU\",\"BLR\",\"TKM\",\"SAU\",\"CHL\",\"CUB\",\"PSE\",\"KAZ\",\"AZE\",\"MDA\",\"JPN\",\"JOR\",\"KOR\",\"COG\",\"ROU\",\"PRY\",\"POL\",\"SLV\",\"DOM\",\"GMB\",\"LSO\",\"TUN\",\"VEN\",\"ECU\",\"MRT\",\"ARG\",\"NIC\",\"MYS\",\"USA\",\"PNG\",\"KGZ\",\"GNB\",\"HND\",\"BOL\",\"LAO\",\"PER\",\"ZAF\",\"IRQ\",\"DZA\",\"GTM\",\"TUR\",\"LKA\",\"COL\",\"MAR\",\"RUS\",\"MEX\",\"SYR\",\"TJK\",\"IRN\",\"CAF\",\"ZWE\",\"THA\",\"UKR\",\"AGO\",\"HTI\",\"UZB\",\"ERI\",\"BRA\",\"MMR\",\"KHM\",\"CMR\",\"SEN\",\"VNM\",\"LBR\",\"TGO\",\"ZMB\",\"CIV\",\"EGY\",\"IDN\",\"SLE\",\"PRK\",\"GHA\",\"CHN\",\"GIN\",\"PHL\",\"SOM\",\"IND\",\"BEN\",\"BGD\",\"RWA\",\"NPL\",\"PAK\",\"SDN\",\"KEN\",\"YEM\",\"BDI\",\"BFA\",\"TCD\",\"MLI\",\"MOZ\",\"MDG\",\"TZA\",\"MWI\",\"NGA\",\"ETH\",\"AFG\",\"COD\",\"UGA\",\"NER\",\"GIB\"],\"name\":\"\",\"z\":[0.2747767853246019,0.27472112789737807,0.27472112789737807,0.27472112789737807,0.27472112789737807,0.274721127897378,0.274721127897378,0.274721127897378,0.274721127897378,0.274721127897378,0.274721127897378,0.2741911055113167,0.26346145891560147,0.2559489279099361,0.2554890960362726,0.2458388079694329,0.24186827604201783,0.21816127692243553,0.21719379921893156,0.21536284172369688,0.19920861962705416,0.19611613513818404,0.1931473542993317,0.19197374857940763,0.18618592603789985,0.18418808661952102,0.1839559973254046,0.1696666938497757,0.15670928859004268,0.15620038949202733,0.14983254386299086,0.14780676215960728,0.144751223383879,0.14173839422224457,0.13899571724422863,0.13715346663324077,0.13482892218081627,0.13023586251232525,0.12899235271383463,0.12797644508786762,0.12794009455909464,0.12723182492604085,0.12534925627602755,0.12109347452240965,0.12024629815643127,0.11960606503284721,0.11878151203571652,0.11861110693283584,0.11458341517742701,0.11419961368582293,0.11316531608746334,0.11160640398642682,0.11009150589074015,0.10938524515111776,0.10569667381203235,0.10425319106805105,0.10327228365716629,0.10308892509326921,0.10231110514301911,0.10159906721689906,0.10047631983403782,0.09908714713937777,0.09901602998553169,0.0985995383668536,0.0977764204541651,0.0974695231513305,0.09530457535808473,0.09497365578350962,0.09481205241050754,0.09441530576647464,0.09374195265002691,0.09366985457123946,0.09344323094120541,0.09300899620166177,0.09289985959007722,0.09236180420359152,0.09231992497170854,0.09222337448486735,0.0917854402528078,0.09138935518922701,0.09110502138766706,0.09097247745247077,0.0908308267886425,0.09077006870611823,0.0906419385002551,0.08997692425148274,0.08995441887066256,0.08867291112154435,0.08859167191080095,0.0885121251171994,0.08835866505906162,0.08828341945174452,0.08826111328762708,0.08814623467402422,0.08813764741238811,0.08809504184864815,0.0879456959053828,0.08792715057220223,0.08790872525324853,0.08770772563881424,0.08768356058796059,0.08743096948290847,0.08726981365439677,0.08720511914717263,0.08713464799085308,0.08704440255978352,0.08703072897513003,0.0870099616978561,0.08700848088482532,0.08689111050143579,0.08670895782611358,0.08668741499485795,0.08666954276383176,0.08663610866647245,0.08662598629329978,0.0865987133796383,0.08658068984017302,0.0865049283561911,0.08643387703373705,0.08642632816484368,0.086254809805075,0.08625338478603416,0.08624292391645175,0.08620191837329665,0.08619796503267588,0.08615895073091603,0.08606166015060052,0.08601767098077238,0.08596259341645712,0.08592083146056756,0.08591197245424197,0.08584689149458226,0.08583996761922472,0.08578442990932819,0.08573948183514984,0.08573709644472165,0.08573458731926913,0.08571195207436717,0.08570206539806038,0.08569280241887148,0.0856704972754368,0.08561481676595277,0.08560803524649592,0.08560418512239028,0.08559422861855331,0.08559422405987914,0.08558532294383839,0.08557969655656567,0.08557326986531553,0.08556870870414625,0.0855642820845028,0.08555879321373984,0.08554962729888935,0.08553483578928235,0.085533325271988,0.0855112516088517,0.08547288255310032,0.08544547428214039,0.08544391083054363,0.0854432799534656,0.08544191838167135,0.0854385898236252,0.08543659818588394,0.08543437356327575,0.08543229678564301,0.08542872906286479,0.08542594118254586,0.08541992885520028,0.08540103577781716,0.0853988927470863,0.08539366740296939,0.08538665989934406,0.0853856635937394,0.08538034697299968,0.08535953234721466,0.0853555914482863,0.08535216811584259,0.08534791442373442,0.08532306972633383,0.08532140800925868,0.08531690823376867,0.08528365535747809,0.08527928281392516,0.08526642837169435,0.08525234443585819,0.08523759519441594,0.08523642590335358,0.08522144154161332,0.08521221350269118,0.08519589901706572,0.08517045725130411,0.08516823617824898,0.08515434191873596,0.08512633770499414,0.08507753012163122,0.08506098090733401,0.08492512296458211,0.0],\"type\":\"choropleth\"}],                        {\"template\":{\"data\":{\"histogram2dcontour\":[{\"type\":\"histogram2dcontour\",\"colorbar\":{\"outlinewidth\":0,\"ticks\":\"\"},\"colorscale\":[[0.0,\"#0d0887\"],[0.1111111111111111,\"#46039f\"],[0.2222222222222222,\"#7201a8\"],[0.3333333333333333,\"#9c179e\"],[0.4444444444444444,\"#bd3786\"],[0.5555555555555556,\"#d8576b\"],[0.6666666666666666,\"#ed7953\"],[0.7777777777777778,\"#fb9f3a\"],[0.8888888888888888,\"#fdca26\"],[1.0,\"#f0f921\"]]}],\"choropleth\":[{\"type\":\"choropleth\",\"colorbar\":{\"outlinewidth\":0,\"ticks\":\"\"}}],\"histogram2d\":[{\"type\":\"histogram2d\",\"colorbar\":{\"outlinewidth\":0,\"ticks\":\"\"},\"colorscale\":[[0.0,\"#0d0887\"],[0.1111111111111111,\"#46039f\"],[0.2222222222222222,\"#7201a8\"],[0.3333333333333333,\"#9c179e\"],[0.4444444444444444,\"#bd3786\"],[0.5555555555555556,\"#d8576b\"],[0.6666666666666666,\"#ed7953\"],[0.7777777777777778,\"#fb9f3a\"],[0.8888888888888888,\"#fdca26\"],[1.0,\"#f0f921\"]]}],\"heatmap\":[{\"type\":\"heatmap\",\"colorbar\":{\"outlinewidth\":0,\"ticks\":\"\"},\"colorscale\":[[0.0,\"#0d0887\"],[0.1111111111111111,\"#46039f\"],[0.2222222222222222,\"#7201a8\"],[0.3333333333333333,\"#9c179e\"],[0.4444444444444444,\"#bd3786\"],[0.5555555555555556,\"#d8576b\"],[0.6666666666666666,\"#ed7953\"],[0.7777777777777778,\"#fb9f3a\"],[0.8888888888888888,\"#fdca26\"],[1.0,\"#f0f921\"]]}],\"heatmapgl\":[{\"type\":\"heatmapgl\",\"colorbar\":{\"outlinewidth\":0,\"ticks\":\"\"},\"colorscale\":[[0.0,\"#0d0887\"],[0.1111111111111111,\"#46039f\"],[0.2222222222222222,\"#7201a8\"],[0.3333333333333333,\"#9c179e\"],[0.4444444444444444,\"#bd3786\"],[0.5555555555555556,\"#d8576b\"],[0.6666666666666666,\"#ed7953\"],[0.7777777777777778,\"#fb9f3a\"],[0.8888888888888888,\"#fdca26\"],[1.0,\"#f0f921\"]]}],\"contourcarpet\":[{\"type\":\"contourcarpet\",\"colorbar\":{\"outlinewidth\":0,\"ticks\":\"\"}}],\"contour\":[{\"type\":\"contour\",\"colorbar\":{\"outlinewidth\":0,\"ticks\":\"\"},\"colorscale\":[[0.0,\"#0d0887\"],[0.1111111111111111,\"#46039f\"],[0.2222222222222222,\"#7201a8\"],[0.3333333333333333,\"#9c179e\"],[0.4444444444444444,\"#bd3786\"],[0.5555555555555556,\"#d8576b\"],[0.6666666666666666,\"#ed7953\"],[0.7777777777777778,\"#fb9f3a\"],[0.8888888888888888,\"#fdca26\"],[1.0,\"#f0f921\"]]}],\"surface\":[{\"type\":\"surface\",\"colorbar\":{\"outlinewidth\":0,\"ticks\":\"\"},\"colorscale\":[[0.0,\"#0d0887\"],[0.1111111111111111,\"#46039f\"],[0.2222222222222222,\"#7201a8\"],[0.3333333333333333,\"#9c179e\"],[0.4444444444444444,\"#bd3786\"],[0.5555555555555556,\"#d8576b\"],[0.6666666666666666,\"#ed7953\"],[0.7777777777777778,\"#fb9f3a\"],[0.8888888888888888,\"#fdca26\"],[1.0,\"#f0f921\"]]}],\"mesh3d\":[{\"type\":\"mesh3d\",\"colorbar\":{\"outlinewidth\":0,\"ticks\":\"\"}}],\"scatter\":[{\"fillpattern\":{\"fillmode\":\"overlay\",\"size\":10,\"solidity\":0.2},\"type\":\"scatter\"}],\"parcoords\":[{\"type\":\"parcoords\",\"line\":{\"colorbar\":{\"outlinewidth\":0,\"ticks\":\"\"}}}],\"scatterpolargl\":[{\"type\":\"scatterpolargl\",\"marker\":{\"colorbar\":{\"outlinewidth\":0,\"ticks\":\"\"}}}],\"bar\":[{\"error_x\":{\"color\":\"#2a3f5f\"},\"error_y\":{\"color\":\"#2a3f5f\"},\"marker\":{\"line\":{\"color\":\"#E5ECF6\",\"width\":0.5},\"pattern\":{\"fillmode\":\"overlay\",\"size\":10,\"solidity\":0.2}},\"type\":\"bar\"}],\"scattergeo\":[{\"type\":\"scattergeo\",\"marker\":{\"colorbar\":{\"outlinewidth\":0,\"ticks\":\"\"}}}],\"scatterpolar\":[{\"type\":\"scatterpolar\",\"marker\":{\"colorbar\":{\"outlinewidth\":0,\"ticks\":\"\"}}}],\"histogram\":[{\"marker\":{\"pattern\":{\"fillmode\":\"overlay\",\"size\":10,\"solidity\":0.2}},\"type\":\"histogram\"}],\"scattergl\":[{\"type\":\"scattergl\",\"marker\":{\"colorbar\":{\"outlinewidth\":0,\"ticks\":\"\"}}}],\"scatter3d\":[{\"type\":\"scatter3d\",\"line\":{\"colorbar\":{\"outlinewidth\":0,\"ticks\":\"\"}},\"marker\":{\"colorbar\":{\"outlinewidth\":0,\"ticks\":\"\"}}}],\"scattermapbox\":[{\"type\":\"scattermapbox\",\"marker\":{\"colorbar\":{\"outlinewidth\":0,\"ticks\":\"\"}}}],\"scatterternary\":[{\"type\":\"scatterternary\",\"marker\":{\"colorbar\":{\"outlinewidth\":0,\"ticks\":\"\"}}}],\"scattercarpet\":[{\"type\":\"scattercarpet\",\"marker\":{\"colorbar\":{\"outlinewidth\":0,\"ticks\":\"\"}}}],\"carpet\":[{\"aaxis\":{\"endlinecolor\":\"#2a3f5f\",\"gridcolor\":\"white\",\"linecolor\":\"white\",\"minorgridcolor\":\"white\",\"startlinecolor\":\"#2a3f5f\"},\"baxis\":{\"endlinecolor\":\"#2a3f5f\",\"gridcolor\":\"white\",\"linecolor\":\"white\",\"minorgridcolor\":\"white\",\"startlinecolor\":\"#2a3f5f\"},\"type\":\"carpet\"}],\"table\":[{\"cells\":{\"fill\":{\"color\":\"#EBF0F8\"},\"line\":{\"color\":\"white\"}},\"header\":{\"fill\":{\"color\":\"#C8D4E3\"},\"line\":{\"color\":\"white\"}},\"type\":\"table\"}],\"barpolar\":[{\"marker\":{\"line\":{\"color\":\"#E5ECF6\",\"width\":0.5},\"pattern\":{\"fillmode\":\"overlay\",\"size\":10,\"solidity\":0.2}},\"type\":\"barpolar\"}],\"pie\":[{\"automargin\":true,\"type\":\"pie\"}]},\"layout\":{\"autotypenumbers\":\"strict\",\"colorway\":[\"#636efa\",\"#EF553B\",\"#00cc96\",\"#ab63fa\",\"#FFA15A\",\"#19d3f3\",\"#FF6692\",\"#B6E880\",\"#FF97FF\",\"#FECB52\"],\"font\":{\"color\":\"#2a3f5f\"},\"hovermode\":\"closest\",\"hoverlabel\":{\"align\":\"left\"},\"paper_bgcolor\":\"white\",\"plot_bgcolor\":\"#E5ECF6\",\"polar\":{\"bgcolor\":\"#E5ECF6\",\"angularaxis\":{\"gridcolor\":\"white\",\"linecolor\":\"white\",\"ticks\":\"\"},\"radialaxis\":{\"gridcolor\":\"white\",\"linecolor\":\"white\",\"ticks\":\"\"}},\"ternary\":{\"bgcolor\":\"#E5ECF6\",\"aaxis\":{\"gridcolor\":\"white\",\"linecolor\":\"white\",\"ticks\":\"\"},\"baxis\":{\"gridcolor\":\"white\",\"linecolor\":\"white\",\"ticks\":\"\"},\"caxis\":{\"gridcolor\":\"white\",\"linecolor\":\"white\",\"ticks\":\"\"}},\"coloraxis\":{\"colorbar\":{\"outlinewidth\":0,\"ticks\":\"\"}},\"colorscale\":{\"sequential\":[[0.0,\"#0d0887\"],[0.1111111111111111,\"#46039f\"],[0.2222222222222222,\"#7201a8\"],[0.3333333333333333,\"#9c179e\"],[0.4444444444444444,\"#bd3786\"],[0.5555555555555556,\"#d8576b\"],[0.6666666666666666,\"#ed7953\"],[0.7777777777777778,\"#fb9f3a\"],[0.8888888888888888,\"#fdca26\"],[1.0,\"#f0f921\"]],\"sequentialminus\":[[0.0,\"#0d0887\"],[0.1111111111111111,\"#46039f\"],[0.2222222222222222,\"#7201a8\"],[0.3333333333333333,\"#9c179e\"],[0.4444444444444444,\"#bd3786\"],[0.5555555555555556,\"#d8576b\"],[0.6666666666666666,\"#ed7953\"],[0.7777777777777778,\"#fb9f3a\"],[0.8888888888888888,\"#fdca26\"],[1.0,\"#f0f921\"]],\"diverging\":[[0,\"#8e0152\"],[0.1,\"#c51b7d\"],[0.2,\"#de77ae\"],[0.3,\"#f1b6da\"],[0.4,\"#fde0ef\"],[0.5,\"#f7f7f7\"],[0.6,\"#e6f5d0\"],[0.7,\"#b8e186\"],[0.8,\"#7fbc41\"],[0.9,\"#4d9221\"],[1,\"#276419\"]]},\"xaxis\":{\"gridcolor\":\"white\",\"linecolor\":\"white\",\"ticks\":\"\",\"title\":{\"standoff\":15},\"zerolinecolor\":\"white\",\"automargin\":true,\"zerolinewidth\":2},\"yaxis\":{\"gridcolor\":\"white\",\"linecolor\":\"white\",\"ticks\":\"\",\"title\":{\"standoff\":15},\"zerolinecolor\":\"white\",\"automargin\":true,\"zerolinewidth\":2},\"scene\":{\"xaxis\":{\"backgroundcolor\":\"#E5ECF6\",\"gridcolor\":\"white\",\"linecolor\":\"white\",\"showbackground\":true,\"ticks\":\"\",\"zerolinecolor\":\"white\",\"gridwidth\":2},\"yaxis\":{\"backgroundcolor\":\"#E5ECF6\",\"gridcolor\":\"white\",\"linecolor\":\"white\",\"showbackground\":true,\"ticks\":\"\",\"zerolinecolor\":\"white\",\"gridwidth\":2},\"zaxis\":{\"backgroundcolor\":\"#E5ECF6\",\"gridcolor\":\"white\",\"linecolor\":\"white\",\"showbackground\":true,\"ticks\":\"\",\"zerolinecolor\":\"white\",\"gridwidth\":2}},\"shapedefaults\":{\"line\":{\"color\":\"#2a3f5f\"}},\"annotationdefaults\":{\"arrowcolor\":\"#2a3f5f\",\"arrowhead\":0,\"arrowwidth\":1},\"geo\":{\"bgcolor\":\"white\",\"landcolor\":\"#E5ECF6\",\"subunitcolor\":\"white\",\"showland\":true,\"showlakes\":true,\"lakecolor\":\"white\"},\"title\":{\"x\":0.05},\"mapbox\":{\"style\":\"light\"}}},\"geo\":{\"domain\":{\"x\":[0.0,1.0],\"y\":[0.0,1.0]},\"center\":{}},\"coloraxis\":{\"colorbar\":{\"title\":{\"text\":\"Score\"}},\"colorscale\":[[0.0,\"#0d0887\"],[0.1111111111111111,\"#46039f\"],[0.2222222222222222,\"#7201a8\"],[0.3333333333333333,\"#9c179e\"],[0.4444444444444444,\"#bd3786\"],[0.5555555555555556,\"#d8576b\"],[0.6666666666666666,\"#ed7953\"],[0.7777777777777778,\"#fb9f3a\"],[0.8888888888888888,\"#fdca26\"],[1.0,\"#f0f921\"]]},\"legend\":{\"tracegroupgap\":0},\"margin\":{\"t\":60}},                        {\"responsive\": true}                    ).then(function(){\n",
       "                            \n",
       "var gd = document.getElementById('d05429ea-f99b-4aef-830f-67c46f408d49');\n",
       "var x = new MutationObserver(function (mutations, observer) {{\n",
       "        var display = window.getComputedStyle(gd).display;\n",
       "        if (!display || display === 'none') {{\n",
       "            console.log([gd, 'removed!']);\n",
       "            Plotly.purge(gd);\n",
       "            observer.disconnect();\n",
       "        }}\n",
       "}});\n",
       "\n",
       "// Listen for the removal of the full notebook cells\n",
       "var notebookContainer = gd.closest('#notebook-container');\n",
       "if (notebookContainer) {{\n",
       "    x.observe(notebookContainer, {childList: true});\n",
       "}}\n",
       "\n",
       "// Listen for the clearing of the current output cell\n",
       "var outputEl = gd.closest('.output');\n",
       "if (outputEl) {{\n",
       "    x.observe(outputEl, {childList: true});\n",
       "}}\n",
       "\n",
       "                        })                };                });            </script>        </div>"
      ]
     },
     "metadata": {},
     "output_type": "display_data"
    }
   ],
   "source": [
    "# Visualizing the investment scores for the rest of the countries on a choropleth map\n",
    "fig = px.choropleth(dfedc.iloc[15:], locations=\"Country Code\",\n",
    "                    color=\"Score\",\n",
    "                    hover_name=\"Country Name\",\n",
    "                    color_continuous_scale=px.colors.sequential.Plasma)\n",
    "fig.show()"
   ]
  },
  {
   "cell_type": "markdown",
   "id": "8ac85218",
   "metadata": {},
   "source": [
    "## Conclusion\n",
    "The data analysis in this notebook sheds light on countries and sub-regions that display strong potential for educational investment. The investment scores are calculated based on selected indicators, providing valuable insights for policymakers and investors in the education sector."
   ]
  },
  {
   "cell_type": "code",
   "execution_count": null,
   "id": "3f1fe1b5",
   "metadata": {},
   "outputs": [],
   "source": []
  }
 ],
 "metadata": {
  "kernelspec": {
   "display_name": "Python 3 (ipykernel)",
   "language": "python",
   "name": "python3"
  },
  "language_info": {
   "codemirror_mode": {
    "name": "ipython",
    "version": 3
   },
   "file_extension": ".py",
   "mimetype": "text/x-python",
   "name": "python",
   "nbconvert_exporter": "python",
   "pygments_lexer": "ipython3",
   "version": "3.11.3"
  }
 },
 "nbformat": 4,
 "nbformat_minor": 5
}
